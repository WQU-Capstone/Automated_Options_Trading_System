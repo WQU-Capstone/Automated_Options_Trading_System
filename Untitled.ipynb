{
 "cells": [
  {
   "cell_type": "code",
   "execution_count": 15,
   "metadata": {},
   "outputs": [],
   "source": [
    "\n",
    "# Importing libraries\n",
    "\n",
    "%matplotlib inline\n",
    "\n",
    "import pandas_datareader as pdr\n",
    "import pandas as pd\n",
    "import numpy as np\n",
    "import matplotlib.pyplot as plt\n",
    "import statistics as stats\n",
    "import math\n",
    "from scipy.stats import norm\n",
    "import statsmodels.api as sm\n",
    "import requests\n",
    "from io import BytesIO\n",
    "import datetime as dt\n",
    "\n",
    "import alpaca_trade_api as tradeapi\n"
   ]
  },
  {
   "cell_type": "code",
   "execution_count": 3,
   "metadata": {},
   "outputs": [],
   "source": [
    "\n",
    "# Set Data Date\n",
    "\n",
    "start = dt.datetime(2000, 1, 1)\n",
    "end = dt.datetime(2020, 1, 1)\n"
   ]
  },
  {
   "cell_type": "code",
   "execution_count": 4,
   "metadata": {},
   "outputs": [],
   "source": [
    "\n",
    "# Download Data\n",
    "\n",
    "spy_df = pdr.get_data_yahoo(symbols='SPY', start = start, end = end)\n",
    "vix_df = pdr.get_data_yahoo(symbols='VIX', start = start, end = end)\n"
   ]
  },
  {
   "cell_type": "code",
   "execution_count": 5,
   "metadata": {},
   "outputs": [],
   "source": [
    "# spy_df = spy_df.resample('D').asfreq()\n",
    "# vix_df = vix_df.resample('D').asfreq()"
   ]
  },
  {
   "cell_type": "code",
   "execution_count": 6,
   "metadata": {},
   "outputs": [],
   "source": [
    "\n",
    "# Calculate Daily Returns\n",
    "\n",
    "spy_df['Daily Return'] = (spy_df['Adj Close'] / spy_df['Adj Close'].shift(1)) -1\n",
    "spy_df.dropna(inplace = True)\n"
   ]
  },
  {
   "cell_type": "code",
   "execution_count": 7,
   "metadata": {},
   "outputs": [
    {
     "name": "stderr",
     "output_type": "stream",
     "text": [
      "C:\\Users\\phemm\\anaconda3\\lib\\site-packages\\statsmodels\\tsa\\base\\tsa_model.py:218: ValueWarning: A date index has been provided, but it has no associated frequency information and so will be ignored when e.g. forecasting.\n",
      "  ' ignored when e.g. forecasting.', ValueWarning)\n"
     ]
    }
   ],
   "source": [
    "\n",
    "# Fit the markov model\n",
    "\n",
    "mod_spy_df = sm.tsa.MarkovAutoregression(spy_df['Daily Return'], k_regimes = 2, order = 1, switching_ar = True)\n",
    "res_spy_df = mod_spy_df.fit()\n"
   ]
  },
  {
   "cell_type": "code",
   "execution_count": 8,
   "metadata": {},
   "outputs": [
    {
     "data": {
      "text/html": [
       "<table class=\"simpletable\">\n",
       "<caption>Markov Switching Model Results</caption>\n",
       "<tr>\n",
       "  <th>Dep. Variable:</th>       <td>Daily Return</td>     <th>  No. Observations:  </th>    <td>5029</td>   \n",
       "</tr>\n",
       "<tr>\n",
       "  <th>Model:</th>           <td>MarkovAutoregression</td> <th>  Log Likelihood     </th>  <td>15305.323</td>\n",
       "</tr>\n",
       "<tr>\n",
       "  <th>Date:</th>              <td>Tue, 13 Oct 2020</td>   <th>  AIC                </th> <td>-30596.646</td>\n",
       "</tr>\n",
       "<tr>\n",
       "  <th>Time:</th>                  <td>15:43:13</td>       <th>  BIC                </th> <td>-30550.986</td>\n",
       "</tr>\n",
       "<tr>\n",
       "  <th>Sample:</th>                    <td>0</td>          <th>  HQIC               </th> <td>-30580.648</td>\n",
       "</tr>\n",
       "<tr>\n",
       "  <th></th>                        <td> - 5029</td>       <th>                     </th>      <td> </td>    \n",
       "</tr>\n",
       "<tr>\n",
       "  <th>Covariance Type:</th>        <td>approx</td>        <th>                     </th>      <td> </td>    \n",
       "</tr>\n",
       "</table>\n",
       "<table class=\"simpletable\">\n",
       "<caption>Regime 0 parameters</caption>\n",
       "<tr>\n",
       "    <td></td>       <th>coef</th>     <th>std err</th>      <th>z</th>      <th>P>|z|</th>  <th>[0.025</th>    <th>0.975]</th>  \n",
       "</tr>\n",
       "<tr>\n",
       "  <th>const</th> <td>   -0.0031</td> <td>    0.001</td> <td>   -3.080</td> <td> 0.002</td> <td>   -0.005</td> <td>   -0.001</td>\n",
       "</tr>\n",
       "<tr>\n",
       "  <th>ar.L1</th> <td>    1.0000</td> <td>    0.078</td> <td>   12.874</td> <td> 0.000</td> <td>    0.848</td> <td>    1.152</td>\n",
       "</tr>\n",
       "</table>\n",
       "<table class=\"simpletable\">\n",
       "<caption>Regime 1 parameters</caption>\n",
       "<tr>\n",
       "    <td></td>       <th>coef</th>     <th>std err</th>      <th>z</th>      <th>P>|z|</th>  <th>[0.025</th>    <th>0.975]</th>  \n",
       "</tr>\n",
       "<tr>\n",
       "  <th>const</th> <td>    0.0009</td> <td>    0.000</td> <td>    5.079</td> <td> 0.000</td> <td>    0.001</td> <td>    0.001</td>\n",
       "</tr>\n",
       "<tr>\n",
       "  <th>ar.L1</th> <td>   -0.1966</td> <td>    0.018</td> <td>  -10.928</td> <td> 0.000</td> <td>   -0.232</td> <td>   -0.161</td>\n",
       "</tr>\n",
       "</table>\n",
       "<table class=\"simpletable\">\n",
       "<caption>Non-switching parameters</caption>\n",
       "<tr>\n",
       "     <td></td>       <th>coef</th>     <th>std err</th>      <th>z</th>      <th>P>|z|</th>  <th>[0.025</th>    <th>0.975]</th>  \n",
       "</tr>\n",
       "<tr>\n",
       "  <th>sigma2</th> <td>    0.0001</td> <td> 2.67e-06</td> <td>   44.791</td> <td> 0.000</td> <td>    0.000</td> <td>    0.000</td>\n",
       "</tr>\n",
       "</table>\n",
       "<table class=\"simpletable\">\n",
       "<caption>Regime transition parameters</caption>\n",
       "<tr>\n",
       "     <td></td>        <th>coef</th>     <th>std err</th>      <th>z</th>      <th>P>|z|</th>  <th>[0.025</th>    <th>0.975]</th>  \n",
       "</tr>\n",
       "<tr>\n",
       "  <th>p[0->0]</th> <td>    0.0748</td> <td>    0.033</td> <td>    2.254</td> <td> 0.024</td> <td>    0.010</td> <td>    0.140</td>\n",
       "</tr>\n",
       "<tr>\n",
       "  <th>p[1->0]</th> <td>    0.1257</td> <td>    0.025</td> <td>    5.019</td> <td> 0.000</td> <td>    0.077</td> <td>    0.175</td>\n",
       "</tr>\n",
       "</table><br/><br/>Warnings:<br/>[1] Covariance matrix calculated using numerical (complex-step) differentiation."
      ],
      "text/plain": [
       "<class 'statsmodels.iolib.summary.Summary'>\n",
       "\"\"\"\n",
       "                         Markov Switching Model Results                         \n",
       "================================================================================\n",
       "Dep. Variable:             Daily Return   No. Observations:                 5029\n",
       "Model:             MarkovAutoregression   Log Likelihood               15305.323\n",
       "Date:                  Tue, 13 Oct 2020   AIC                         -30596.646\n",
       "Time:                          15:43:13   BIC                         -30550.986\n",
       "Sample:                               0   HQIC                        -30580.648\n",
       "                                 - 5029                                         \n",
       "Covariance Type:                 approx                                         \n",
       "                             Regime 0 parameters                              \n",
       "==============================================================================\n",
       "                 coef    std err          z      P>|z|      [0.025      0.975]\n",
       "------------------------------------------------------------------------------\n",
       "const         -0.0031      0.001     -3.080      0.002      -0.005      -0.001\n",
       "ar.L1          1.0000      0.078     12.874      0.000       0.848       1.152\n",
       "                             Regime 1 parameters                              \n",
       "==============================================================================\n",
       "                 coef    std err          z      P>|z|      [0.025      0.975]\n",
       "------------------------------------------------------------------------------\n",
       "const          0.0009      0.000      5.079      0.000       0.001       0.001\n",
       "ar.L1         -0.1966      0.018    -10.928      0.000      -0.232      -0.161\n",
       "                           Non-switching parameters                           \n",
       "==============================================================================\n",
       "                 coef    std err          z      P>|z|      [0.025      0.975]\n",
       "------------------------------------------------------------------------------\n",
       "sigma2         0.0001   2.67e-06     44.791      0.000       0.000       0.000\n",
       "                         Regime transition parameters                         \n",
       "==============================================================================\n",
       "                 coef    std err          z      P>|z|      [0.025      0.975]\n",
       "------------------------------------------------------------------------------\n",
       "p[0->0]        0.0748      0.033      2.254      0.024       0.010       0.140\n",
       "p[1->0]        0.1257      0.025      5.019      0.000       0.077       0.175\n",
       "==============================================================================\n",
       "\n",
       "Warnings:\n",
       "[1] Covariance matrix calculated using numerical (complex-step) differentiation.\n",
       "\"\"\""
      ]
     },
     "execution_count": 8,
     "metadata": {},
     "output_type": "execute_result"
    }
   ],
   "source": [
    "\n",
    "# Get the results\n",
    "\n",
    "res_spy_df.summary()\n"
   ]
  },
  {
   "cell_type": "code",
   "execution_count": 9,
   "metadata": {},
   "outputs": [
    {
     "data": {
      "image/png": "[encoded data removed]",
      "text/plain": [
       "<Figure size 504x504 with 2 Axes>"
      ]
     },
     "metadata": {
      "needs_background": "light"
     },
     "output_type": "display_data"
    }
   ],
   "source": [
    "\n",
    "# Plot the probabilties\n",
    "\n",
    "fig, axes = plt.subplots(2, figsize=(7,7))\n",
    "\n",
    "ax = axes[0]\n",
    "ax.plot(res_spy_df.filtered_marginal_probabilities[0])\n",
    "ax.set_xlim(spy_df.index[4], spy_df.index[-1])\n",
    "ax.set(title = 'Filtered probability of recession')\n",
    "\n",
    "ax = axes[1]\n",
    "ax.plot(res_spy_df.smoothed_marginal_probabilities[0])\n",
    "ax.set_xlim(spy_df.index[4], spy_df.index[-1])\n",
    "ax.set(title = 'Smoothed probability of recession')\n",
    "\n",
    "fig.tight_layout()"
   ]
  },
  {
   "cell_type": "code",
   "execution_count": 10,
   "metadata": {},
   "outputs": [
    {
     "name": "stdout",
     "output_type": "stream",
     "text": [
      "[1.08085332 7.953931  ]\n"
     ]
    }
   ],
   "source": [
    "\n",
    "# Get the expected duration\n",
    "\n",
    "print(res_spy_df.expected_durations)\n"
   ]
  },
  {
   "cell_type": "code",
   "execution_count": 11,
   "metadata": {},
   "outputs": [],
   "source": [
    "\n",
    "# Adding Bollinger Bands as technical indicator for portfolio rebalancing\n",
    "\n",
    "spy_df['20 day moving average'] = spy_df['Adj Close'].rolling(window=20).mean()\n",
    "\n",
    "spy_df['20 day std'] = spy_df['Adj Close'].rolling(window=20).std()\n",
    "\n",
    "spy_df['Upper Band'] = spy_df['20 day moving average'] + (spy_df['20 day std'] * 1.5)\n",
    "spy_df['Lower Band'] = spy_df['20 day moving average'] - (spy_df['20 day std'] * 1.5)\n"
   ]
  },
  {
   "cell_type": "code",
   "execution_count": 12,
   "metadata": {},
   "outputs": [],
   "source": [
    "\n",
    "# Setup Call & Put functions\n",
    "def d_1(sigma, T, S, K, r):\n",
    "    return 1/(sigma*np.sqrt(T))*(np.log(S/K)+(r+(sigma**2)/2)*T)\n",
    "\n",
    "def d_2(d_1, sigma, T):\n",
    "    return d_1 - sigma*np.sqrt(T)\n",
    "\n",
    "def Call(sigma, T, S, K, r):\n",
    "    d1 = d_1(sigma, T, S, K, r)\n",
    "    d2 = d_2(d1, sigma, T)\n",
    "    return norm.cdf(d1)*S-norm.cdf(d2)*K*np.exp(-r*T)\n",
    "\n",
    "def Put(sigma, T, S, K, r):\n",
    "    d1 = d_1(sigma, T, S, K, r)\n",
    "    d2 = d_2(d1, sigma, T)\n",
    "    return norm.cdf(-d2)*K*np.exp(-r*T)-norm.cdf(-d1)*S\n"
   ]
  },
  {
   "cell_type": "code",
   "execution_count": 14,
   "metadata": {},
   "outputs": [
    {
     "name": "stdout",
     "output_type": "stream",
     "text": [
      "option invested on 2000-03-16 00:00:00 premium: 99.1373111942978\n",
      "Option expires 2000-04-17 00:00:00 return: -3.548492431640625\n",
      "option invested on 2000-06-02 00:00:00 premium: 100.40799135071208\n",
      "Option expires 2000-07-03 00:00:00 return: -0.14655303955078125\n",
      "option invested on 2000-07-12 00:00:00 premium: 101.51661441119668\n",
      "Option expires 2000-08-14 00:00:00 return: 0\n",
      "option invested on 2000-08-17 00:00:00 premium: 102.23990001553376\n",
      "Option expires 2000-09-18 00:00:00 return: -3.51947021484375\n",
      "option invested on 2000-11-06 00:00:00 premium: 98.12476320649658\n",
      "Option expires 2000-12-07 00:00:00 return: -6.912750244140625\n",
      "option invested on 2001-01-23 00:00:00 premium: 93.07770276816026\n",
      "Option expires 2001-02-23 00:00:00 return: -7.539207458496094\n",
      "option invested on 2001-04-12 00:00:00 premium: 81.57806260504354\n",
      "Option expires 2001-05-14 00:00:00 return: 0\n",
      "option invested on 2001-05-16 00:00:00 premium: 88.51067451350835\n",
      "Option expires 2001-06-18 00:00:00 return: -5.043792724609375\n",
      "option invested on 2001-10-11 00:00:00 premium: 76.00231472316248\n",
      "Option expires 2001-11-12 00:00:00 return: 0\n",
      "option invested on 2001-11-13 00:00:00 premium: 79.14605460744019\n",
      "Option expires 2001-12-14 00:00:00 return: -0.9815444946289062\n",
      "option invested on 2002-01-04 00:00:00 premium: 81.54674936099853\n",
      "Option expires 2002-02-04 00:00:00 return: -5.389228820800781\n",
      "option invested on 2002-03-01 00:00:00 premium: 78.85669308316443\n",
      "Option expires 2002-04-01 00:00:00 return: 0\n",
      "option invested on 2002-08-15 00:00:00 premium: 65.23739948880143\n",
      "Option expires 2002-09-16 00:00:00 return: -2.51983642578125\n",
      "option invested on 2002-10-15 00:00:00 premium: 62.16574641390142\n",
      "Option expires 2002-11-15 00:00:00 return: 0\n",
      "option invested on 2002-11-20 00:00:00 premium: 64.73786707009151\n",
      "Option expires 2002-12-23 00:00:00 return: -1.3375244140625\n",
      "option invested on 2003-01-06 00:00:00 premium: 65.47157771208204\n",
      "Option expires 2003-02-06 00:00:00 return: -5.99609375\n"
     ]
    },
    {
     "ename": "IndexError",
     "evalue": "single positional indexer is out-of-bounds",
     "output_type": "error",
     "traceback": [
      "\u001b[1;31m---------------------------------------------------------------------------\u001b[0m",
      "\u001b[1;31mIndexError\u001b[0m                                Traceback (most recent call last)",
      "\u001b[1;32m<ipython-input-14-91edccd2b874>\u001b[0m in \u001b[0;36m<module>\u001b[1;34m\u001b[0m\n\u001b[0;32m     41\u001b[0m         \u001b[1;31m# Creating a one month at-the-money option with that day volatilty (using VIX close as Proxy)\u001b[0m\u001b[1;33m\u001b[0m\u001b[1;33m\u001b[0m\u001b[1;33m\u001b[0m\u001b[0m\n\u001b[0;32m     42\u001b[0m         \u001b[0mp_strike\u001b[0m \u001b[1;33m=\u001b[0m \u001b[0mcur_close\u001b[0m\u001b[1;33m\u001b[0m\u001b[1;33m\u001b[0m\u001b[0m\n\u001b[1;32m---> 43\u001b[1;33m         \u001b[0mp_opt\u001b[0m \u001b[1;33m=\u001b[0m \u001b[0mPut\u001b[0m\u001b[1;33m(\u001b[0m\u001b[0mvix_df\u001b[0m\u001b[1;33m[\u001b[0m\u001b[1;34m\"Adj Close\"\u001b[0m\u001b[1;33m]\u001b[0m\u001b[1;33m.\u001b[0m\u001b[0miloc\u001b[0m\u001b[1;33m[\u001b[0m\u001b[0mday\u001b[0m\u001b[1;33m]\u001b[0m \u001b[1;33m/\u001b[0m \u001b[1;36m100\u001b[0m\u001b[1;33m,\u001b[0m \u001b[1;36m1\u001b[0m \u001b[1;33m/\u001b[0m \u001b[1;36m12\u001b[0m\u001b[1;33m,\u001b[0m \u001b[0mcur_close\u001b[0m\u001b[1;33m,\u001b[0m \u001b[0mcur_close\u001b[0m\u001b[1;33m,\u001b[0m \u001b[1;36m0.005\u001b[0m\u001b[1;33m)\u001b[0m\u001b[1;33m\u001b[0m\u001b[1;33m\u001b[0m\u001b[0m\n\u001b[0m\u001b[0;32m     44\u001b[0m         \u001b[0mp_opt_exp\u001b[0m \u001b[1;33m=\u001b[0m \u001b[0mspy_df\u001b[0m\u001b[1;33m.\u001b[0m\u001b[0mindex\u001b[0m\u001b[1;33m[\u001b[0m\u001b[0mday\u001b[0m\u001b[1;33m]\u001b[0m \u001b[1;33m+\u001b[0m \u001b[0mdt\u001b[0m\u001b[1;33m.\u001b[0m\u001b[0mtimedelta\u001b[0m\u001b[1;33m(\u001b[0m\u001b[0mdays\u001b[0m\u001b[1;33m=\u001b[0m\u001b[1;36m30\u001b[0m\u001b[1;33m)\u001b[0m\u001b[1;33m\u001b[0m\u001b[1;33m\u001b[0m\u001b[0m\n\u001b[0;32m     45\u001b[0m \u001b[1;33m\u001b[0m\u001b[0m\n",
      "\u001b[1;32m~\\anaconda3\\lib\\site-packages\\pandas\\core\\indexing.py\u001b[0m in \u001b[0;36m__getitem__\u001b[1;34m(self, key)\u001b[0m\n\u001b[0;32m   1766\u001b[0m \u001b[1;33m\u001b[0m\u001b[0m\n\u001b[0;32m   1767\u001b[0m             \u001b[0mmaybe_callable\u001b[0m \u001b[1;33m=\u001b[0m \u001b[0mcom\u001b[0m\u001b[1;33m.\u001b[0m\u001b[0mapply_if_callable\u001b[0m\u001b[1;33m(\u001b[0m\u001b[0mkey\u001b[0m\u001b[1;33m,\u001b[0m \u001b[0mself\u001b[0m\u001b[1;33m.\u001b[0m\u001b[0mobj\u001b[0m\u001b[1;33m)\u001b[0m\u001b[1;33m\u001b[0m\u001b[1;33m\u001b[0m\u001b[0m\n\u001b[1;32m-> 1768\u001b[1;33m             \u001b[1;32mreturn\u001b[0m \u001b[0mself\u001b[0m\u001b[1;33m.\u001b[0m\u001b[0m_getitem_axis\u001b[0m\u001b[1;33m(\u001b[0m\u001b[0mmaybe_callable\u001b[0m\u001b[1;33m,\u001b[0m \u001b[0maxis\u001b[0m\u001b[1;33m=\u001b[0m\u001b[0maxis\u001b[0m\u001b[1;33m)\u001b[0m\u001b[1;33m\u001b[0m\u001b[1;33m\u001b[0m\u001b[0m\n\u001b[0m\u001b[0;32m   1769\u001b[0m \u001b[1;33m\u001b[0m\u001b[0m\n\u001b[0;32m   1770\u001b[0m     \u001b[1;32mdef\u001b[0m \u001b[0m_is_scalar_access\u001b[0m\u001b[1;33m(\u001b[0m\u001b[0mself\u001b[0m\u001b[1;33m,\u001b[0m \u001b[0mkey\u001b[0m\u001b[1;33m:\u001b[0m \u001b[0mTuple\u001b[0m\u001b[1;33m)\u001b[0m\u001b[1;33m:\u001b[0m\u001b[1;33m\u001b[0m\u001b[1;33m\u001b[0m\u001b[0m\n",
      "\u001b[1;32m~\\anaconda3\\lib\\site-packages\\pandas\\core\\indexing.py\u001b[0m in \u001b[0;36m_getitem_axis\u001b[1;34m(self, key, axis)\u001b[0m\n\u001b[0;32m   2136\u001b[0m \u001b[1;33m\u001b[0m\u001b[0m\n\u001b[0;32m   2137\u001b[0m             \u001b[1;31m# validate the location\u001b[0m\u001b[1;33m\u001b[0m\u001b[1;33m\u001b[0m\u001b[1;33m\u001b[0m\u001b[0m\n\u001b[1;32m-> 2138\u001b[1;33m             \u001b[0mself\u001b[0m\u001b[1;33m.\u001b[0m\u001b[0m_validate_integer\u001b[0m\u001b[1;33m(\u001b[0m\u001b[0mkey\u001b[0m\u001b[1;33m,\u001b[0m \u001b[0maxis\u001b[0m\u001b[1;33m)\u001b[0m\u001b[1;33m\u001b[0m\u001b[1;33m\u001b[0m\u001b[0m\n\u001b[0m\u001b[0;32m   2139\u001b[0m \u001b[1;33m\u001b[0m\u001b[0m\n\u001b[0;32m   2140\u001b[0m             \u001b[1;32mreturn\u001b[0m \u001b[0mself\u001b[0m\u001b[1;33m.\u001b[0m\u001b[0m_get_loc\u001b[0m\u001b[1;33m(\u001b[0m\u001b[0mkey\u001b[0m\u001b[1;33m,\u001b[0m \u001b[0maxis\u001b[0m\u001b[1;33m=\u001b[0m\u001b[0maxis\u001b[0m\u001b[1;33m)\u001b[0m\u001b[1;33m\u001b[0m\u001b[1;33m\u001b[0m\u001b[0m\n",
      "\u001b[1;32m~\\anaconda3\\lib\\site-packages\\pandas\\core\\indexing.py\u001b[0m in \u001b[0;36m_validate_integer\u001b[1;34m(self, key, axis)\u001b[0m\n\u001b[0;32m   2061\u001b[0m         \u001b[0mlen_axis\u001b[0m \u001b[1;33m=\u001b[0m \u001b[0mlen\u001b[0m\u001b[1;33m(\u001b[0m\u001b[0mself\u001b[0m\u001b[1;33m.\u001b[0m\u001b[0mobj\u001b[0m\u001b[1;33m.\u001b[0m\u001b[0m_get_axis\u001b[0m\u001b[1;33m(\u001b[0m\u001b[0maxis\u001b[0m\u001b[1;33m)\u001b[0m\u001b[1;33m)\u001b[0m\u001b[1;33m\u001b[0m\u001b[1;33m\u001b[0m\u001b[0m\n\u001b[0;32m   2062\u001b[0m         \u001b[1;32mif\u001b[0m \u001b[0mkey\u001b[0m \u001b[1;33m>=\u001b[0m \u001b[0mlen_axis\u001b[0m \u001b[1;32mor\u001b[0m \u001b[0mkey\u001b[0m \u001b[1;33m<\u001b[0m \u001b[1;33m-\u001b[0m\u001b[0mlen_axis\u001b[0m\u001b[1;33m:\u001b[0m\u001b[1;33m\u001b[0m\u001b[1;33m\u001b[0m\u001b[0m\n\u001b[1;32m-> 2063\u001b[1;33m             \u001b[1;32mraise\u001b[0m \u001b[0mIndexError\u001b[0m\u001b[1;33m(\u001b[0m\u001b[1;34m\"single positional indexer is out-of-bounds\"\u001b[0m\u001b[1;33m)\u001b[0m\u001b[1;33m\u001b[0m\u001b[1;33m\u001b[0m\u001b[0m\n\u001b[0m\u001b[0;32m   2064\u001b[0m \u001b[1;33m\u001b[0m\u001b[0m\n\u001b[0;32m   2065\u001b[0m     \u001b[1;32mdef\u001b[0m \u001b[0m_getitem_tuple\u001b[0m\u001b[1;33m(\u001b[0m\u001b[0mself\u001b[0m\u001b[1;33m,\u001b[0m \u001b[0mtup\u001b[0m\u001b[1;33m:\u001b[0m \u001b[0mTuple\u001b[0m\u001b[1;33m)\u001b[0m\u001b[1;33m:\u001b[0m\u001b[1;33m\u001b[0m\u001b[1;33m\u001b[0m\u001b[0m\n",
      "\u001b[1;31mIndexError\u001b[0m: single positional indexer is out-of-bounds"
     ]
    }
   ],
   "source": [
    "\n",
    "# define option payout\n",
    "def option_payout(direction, opt_type, S, K):\n",
    "    \"\"\"\n",
    "    Calculates an option pay out depending on direction (long/short),\n",
    "    option type (call/put), current underlying level (S) and the option's strike (K)\n",
    "    \"\"\"\n",
    "    if direction == \"s\":\n",
    "        if opt_type == \"p\":\n",
    "            return -max(0, K-S)\n",
    "        else:\n",
    "            return -max(0, S-K)\n",
    "    else:\n",
    "        if opt_type == \"p\":\n",
    "            return max(0, K-S)\n",
    "        else:\n",
    "            return max(0, S-K)\n",
    "\n",
    "\n",
    "# Initiating variables\n",
    "\n",
    "# Initial investment state = 0 (not invested)\n",
    "inv_state = 0\n",
    "\n",
    "# Setting initial portfolio value to 0\n",
    "pf_value = 0\n",
    "\n",
    "# Creating list to keep track of portfolio values\n",
    "pf_value_list = []\n",
    "\n",
    "# Create portfolio dataframe with underlyings date index\n",
    "pf_df = pd.DataFrame(index=spy_df.index)\n",
    "\n",
    "# Looping through the data and short put options\n",
    "\n",
    "for day in range(len(spy_df)):\n",
    "    # Keeping track of every day's portfolio value\n",
    "    pf_value_list.append(pf_value)\n",
    "    cur_close = spy_df[\"Adj Close\"].iloc[day]\n",
    "\n",
    "    if cur_close > spy_df[\"Upper Band\"].iloc[day] and inv_state == 0:\n",
    "        # Creating a one month at-the-money option with that day volatilty (using VIX close as Proxy)\n",
    "        p_strike = cur_close\n",
    "        p_opt = Put(vix_df[\"Adj Close\"].iloc[day] / 100, 1 / 12, cur_close, cur_close, 0.005)\n",
    "        p_opt_exp = spy_df.index[day] + dt.timedelta(days=30)\n",
    "\n",
    "        # Set invested state to 1 = invested\n",
    "        inv_state = 1\n",
    "\n",
    "        # Adding option premium to portfolio value\n",
    "        pf_value += p_opt\n",
    "\n",
    "        print(\"option invested on\", spy_df.index[day], \"premium:\", p_opt)\n",
    "\n",
    "    if inv_state == 1 and spy_df.index[day] > p_opt_exp:\n",
    "        # Calculating option premium at expiry\n",
    "        opt_return = option_payout(\"s\", \"p\", spy_df[\"Adj Close\"].iloc[day], p_strike)\n",
    "        print(\"Option expires\", spy_df.index[day], \"return:\", opt_return)\n",
    "\n",
    "        # Adding expiry value to portfolio value\n",
    "        pf_value += opt_return\n",
    "\n",
    "        # Setting investment state to \"not invested\" = 0\n",
    "        inv_state = 0\n",
    "print(\"pf end value:\", pf_value)\n",
    "\n",
    "# Adding each day's portfolio value to the portfolio dataframe\n",
    "pf_df[\"Value\"] = pf_value_list"
   ]
  },
  {
   "cell_type": "code",
   "execution_count": null,
   "metadata": {},
   "outputs": [],
   "source": []
  }
 ],
 "metadata": {
  "kernelspec": {
   "display_name": "Python 3",
   "language": "python",
   "name": "python3"
  },
  "language_info": {
   "codemirror_mode": {
    "name": "ipython",
    "version": 3
   },
   "file_extension": ".py",
   "mimetype": "text/x-python",
   "name": "python",
   "nbconvert_exporter": "python",
   "pygments_lexer": "ipython3",
   "version": "3.7.6"
  }
 },
 "nbformat": 4,
 "nbformat_minor": 4
}
